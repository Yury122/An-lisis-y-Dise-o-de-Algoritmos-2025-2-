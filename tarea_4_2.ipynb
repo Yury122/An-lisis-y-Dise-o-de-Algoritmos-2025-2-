{
  "nbformat": 4,
  "nbformat_minor": 0,
  "metadata": {
    "colab": {
      "provenance": []
    },
    "kernelspec": {
      "name": "python3",
      "display_name": "Python 3"
    },
    "language_info": {
      "name": "python"
    }
  },
  "cells": [
    {
      "cell_type": "code",
      "execution_count": 1,
      "metadata": {
        "colab": {
          "base_uri": "https://localhost:8080/"
        },
        "id": "XqQA9O2LKA_t",
        "outputId": "3917511e-8b5c-407e-832e-bf8e73f9e814"
      },
      "outputs": [
        {
          "output_type": "stream",
          "name": "stdout",
          "text": [
            "Accuracy: 1.0\n"
          ]
        }
      ],
      "source": [
        "import numpy as np\n",
        "from sklearn.datasets import load_iris\n",
        "from sklearn.preprocessing import StandardScaler\n",
        "from sklearn.model_selection import train_test_split\n",
        "\n",
        "\n",
        "iris = load_iris()\n",
        "X = iris.data[:100, :2]\n",
        "y = iris.target[:100]\n",
        "\n",
        "\n",
        "scaler = StandardScaler()\n",
        "X = scaler.fit_transform(X)\n",
        "\n",
        "X_train, X_test, y_train, y_test = train_test_split(X, y, test_size=0.3, random_state=42)\n",
        "\n",
        "\n",
        "w = np.zeros(X.shape[1])\n",
        "b = 0.0\n",
        "eta = 0.1\n",
        "epochs = 50\n",
        "\n",
        "def sigmoid(z):\n",
        "    return 1 / (1 + np.exp(-z))\n",
        "\n",
        "for epoch in range(epochs):\n",
        "    for i in range(len(X_train)):\n",
        "        xi = X_train[i]\n",
        "        yi = y_train[i]\n",
        "        z = np.dot(w, xi) + b\n",
        "        y_hat = sigmoid(z)\n",
        "\n",
        "\n",
        "        grad_w = (y_hat - yi) * xi\n",
        "        grad_b = (y_hat - yi)\n",
        "\n",
        "\n",
        "        w -= eta * grad_w\n",
        "        b -= eta * grad_b\n",
        "\n",
        "\n",
        "y_pred = sigmoid(np.dot(X_test, w) + b) >= 0.5\n",
        "accuracy = np.mean(y_pred == y_test)\n",
        "print(\"Accuracy:\", accuracy)\n"
      ]
    }
  ]
}