{
  "nbformat": 4,
  "nbformat_minor": 0,
  "metadata": {
    "colab": {
      "provenance": []
    },
    "kernelspec": {
      "name": "python3",
      "display_name": "Python 3"
    },
    "language_info": {
      "name": "python"
    }
  },
  "cells": [
    {
      "cell_type": "code",
      "source": [
        "import numpy as np\n",
        "import pandas as pd\n",
        "from sklearn.model_selection import train_test_split"
      ],
      "metadata": {
        "id": "E_GYBmtdDr6L"
      },
      "execution_count": null,
      "outputs": []
    },
    {
      "cell_type": "code",
      "source": [
        "# 1. Cargar el conjunto de datos\n",
        "df = pd.read_csv(\"ReporteFelicidad_2019.csv\")"
      ],
      "metadata": {
        "id": "oZYkdYCRDrwz"
      },
      "execution_count": null,
      "outputs": []
    },
    {
      "cell_type": "code",
      "source": [
        "# Variables predictoras y objetivo\n",
        "FEATURE_COLS = [\n",
        "    \"GDP per capita\",\n",
        "    \"Social support\",\n",
        "    \"Healthy life expectancy\",\n",
        "    \"Freedom to make life choices\",\n",
        "    \"Generosity\",\n",
        "    \"Perceptions of corruption\"\n",
        "]\n",
        "TARGET_COL = \"Score\""
      ],
      "metadata": {
        "id": "uXehtnzyDrtA"
      },
      "execution_count": 4,
      "outputs": []
    },
    {
      "cell_type": "code",
      "source": [
        "X = df[FEATURE_COLS].values\n",
        "y = df[TARGET_COL].values.reshape(-1, 1)\n"
      ],
      "metadata": {
        "id": "AtuZHW7wDrnQ"
      },
      "execution_count": 5,
      "outputs": []
    },
    {
      "cell_type": "code",
      "source": [
        "# 2. Preprocesamiento de datos\n",
        "# División en entrenamiento y prueba\n",
        "X_train, X_test, y_train, y_test = train_test_split(X, y, test_size=0.2, random_state=42)"
      ],
      "metadata": {
        "id": "Bub2PIjID6JX"
      },
      "execution_count": 7,
      "outputs": []
    },
    {
      "cell_type": "code",
      "source": [
        "# Normalización (estandarización)\n",
        "mean = X_train.mean(axis=0)\n",
        "std = X_train.std(axis=0, ddof=0)\n",
        "std[std == 0] = 1.0\n",
        "\n",
        "X_train_std = (X_train - mean) / std\n",
        "X_test_std = (X_test - mean) / std"
      ],
      "metadata": {
        "id": "JZueBdOiD6CX"
      },
      "execution_count": 8,
      "outputs": []
    },
    {
      "cell_type": "code",
      "source": [
        "# 3. Inicialización del modelo\n",
        "np.random.seed(42)\n",
        "n_features = X_train_std.shape[1]\n",
        "W = np.random.randn(n_features, 1) * 0.01  # pesos pequeños aleatorios\n",
        "b = np.zeros((1, 1))                       # sesgo inicial en 0"
      ],
      "metadata": {
        "id": "d6DUKs79EGVG"
      },
      "execution_count": 9,
      "outputs": []
    },
    {
      "cell_type": "code",
      "source": [
        "# 4. Función de pérdida (MSE)\n",
        "def mse(y_true, y_pred):\n",
        "    return np.mean((y_true - y_pred) ** 2)"
      ],
      "metadata": {
        "id": "8jjo7yr5ERJR"
      },
      "execution_count": 10,
      "outputs": []
    },
    {
      "cell_type": "code",
      "source": [
        "# 5. Entrenamiento con Gradiente Estocástico (SGD)\n",
        "LEARNING_RATE = 0.01\n",
        "EPOCHS = 200\n",
        "m_train = X_train_std.shape[0]\n",
        "\n",
        "for epoch in range(EPOCHS):\n",
        "    # Barajar datos\n",
        "    indices = np.random.permutation(m_train)\n",
        "    X_train_std = X_train_std[indices]\n",
        "    y_train = y_train[indices]\n",
        "\n",
        "    for i in range(m_train):\n",
        "        # Seleccionar una muestra (SGD puro)\n",
        "        xi = X_train_std[i:i+1]\n",
        "        yi = y_train[i:i+1]\n",
        "\n",
        "        # Predicción\n",
        "        y_pred = xi @ W + b\n",
        "\n",
        "        # Calcular gradientes\n",
        "        error = yi - y_pred\n",
        "        grad_W = (-2.0) * xi.T @ error       # derivada respecto a W\n",
        "        grad_b = (-2.0) * np.sum(error)      # derivada respecto a b\n",
        "\n",
        "        # Actualizar parámetros (aquí estaba tu error de indentación)\n",
        "        W = W - LEARNING_RATE * grad_W\n",
        "        b = b - LEARNING_RATE * grad_b\n",
        "\n",
        "    # Calcular pérdida por época\n",
        "    y_pred_train = X_train_std @ W + b\n",
        "    y_pred_test = X_test_std @ W + b\n",
        "    loss_train = mse(y_train, y_pred_train)\n",
        "    loss_test = mse(y_test, y_pred_test)\n",
        "\n",
        "    if (epoch + 1) % 20 == 0 or epoch == 0:\n",
        "        print(f\"Época {epoch+1:3d} -> MSE entrenamiento: {loss_train:.4f} | MSE prueba: {loss_test:.4f}\")"
      ],
      "metadata": {
        "colab": {
          "base_uri": "https://localhost:8080/"
        },
        "id": "1j7X5rBcERCh",
        "outputId": "86367154-dd86-4af9-fca7-c07478e99cbe"
      },
      "execution_count": 11,
      "outputs": [
        {
          "output_type": "stream",
          "name": "stdout",
          "text": [
            "Época   1 -> MSE entrenamiento: 0.3913 | MSE prueba: 0.5352\n",
            "Época  20 -> MSE entrenamiento: 0.2565 | MSE prueba: 0.4276\n",
            "Época  40 -> MSE entrenamiento: 0.2854 | MSE prueba: 0.4495\n",
            "Época  60 -> MSE entrenamiento: 0.2455 | MSE prueba: 0.4179\n",
            "Época  80 -> MSE entrenamiento: 0.2563 | MSE prueba: 0.4335\n",
            "Época 100 -> MSE entrenamiento: 0.2384 | MSE prueba: 0.4185\n",
            "Época 120 -> MSE entrenamiento: 0.2497 | MSE prueba: 0.4179\n",
            "Época 140 -> MSE entrenamiento: 0.2656 | MSE prueba: 0.4331\n",
            "Época 160 -> MSE entrenamiento: 0.2531 | MSE prueba: 0.4154\n",
            "Época 180 -> MSE entrenamiento: 0.2454 | MSE prueba: 0.4316\n",
            "Época 200 -> MSE entrenamiento: 0.2715 | MSE prueba: 0.4516\n"
          ]
        }
      ]
    },
    {
      "cell_type": "code",
      "execution_count": 12,
      "metadata": {
        "colab": {
          "base_uri": "https://localhost:8080/"
        },
        "id": "n3qWk-nzDeRf",
        "outputId": "51d4bc3d-3762-4264-d937-254efaff5c79"
      },
      "outputs": [
        {
          "output_type": "stream",
          "name": "stdout",
          "text": [
            "\n",
            "Pesos aprendidos (W):\n",
            "GDP per capita                : 0.2518\n",
            "Social support                : 0.2981\n",
            "Healthy life expectancy       : 0.1944\n",
            "Freedom to make life choices  : 0.2023\n",
            "Generosity                    : -0.0384\n",
            "Perceptions of corruption     : 0.0997\n",
            "\n",
            "Sesgo (b): 5.4071\n"
          ]
        },
        {
          "output_type": "stream",
          "name": "stderr",
          "text": [
            "/tmp/ipython-input-2749855895.py:6: DeprecationWarning: Conversion of an array with ndim > 0 to a scalar is deprecated, and will error in future. Ensure you extract a single element from your array before performing this operation. (Deprecated NumPy 1.25.)\n",
            "  print(f\"\\nSesgo (b): {float(b):.4f}\")\n"
          ]
        }
      ],
      "source": [
        "# 6. Evaluación final del modelo\n",
        "print(\"\\nPesos aprendidos (W):\")\n",
        "for name, weight in zip(FEATURE_COLS, W.flatten()):\n",
        "    print(f\"{name:30s}: {weight:.4f}\")\n",
        "\n",
        "print(f\"\\nSesgo (b): {float(b):.4f}\")"
      ]
    },
    {
      "cell_type": "code",
      "source": [
        "# Predicciones finales\n",
        "y_pred_total = (X - mean) / std @ W + b\n",
        "\n",
        "df[\"Predicted_Score\"] = y_pred_total\n",
        "df[\"Error\"] = df[\"Predicted_Score\"] - df[\"Score\"]"
      ],
      "metadata": {
        "id": "dGDA7LnjEtOA"
      },
      "execution_count": 13,
      "outputs": []
    },
    {
      "cell_type": "code",
      "source": [
        "# 7. Mostrar resultados\n",
        "print(\"\\nPrimeras 10 predicciones (País, Real, Predicho, Error):\")\n",
        "print(df[[\"Country or region\", \"Score\", \"Predicted_Score\", \"Error\"]].head(10).to_string(index=False))\n",
        "\n",
        "print(\"\\nMSE final (entrenamiento):\", round(loss_train, 4))\n",
        "print(\"MSE final (prueba):\", round(loss_test, 4))"
      ],
      "metadata": {
        "colab": {
          "base_uri": "https://localhost:8080/"
        },
        "id": "jKUZZy8ZE2p_",
        "outputId": "920b34ad-9ad7-4023-f12a-f68a983f48f0"
      },
      "execution_count": 14,
      "outputs": [
        {
          "output_type": "stream",
          "name": "stdout",
          "text": [
            "\n",
            "Primeras 10 predicciones (País, Real, Predicho, Error):\n",
            "Country or region  Score  Predicted_Score     Error\n",
            "          Finland  7.769         6.829698 -0.939302\n",
            "          Denmark  7.600         6.822230 -0.777770\n",
            "           Norway  7.554         6.858079 -0.695921\n",
            "          Iceland  7.494         6.560515 -0.933485\n",
            "      Netherlands  7.488         6.595490 -0.892510\n",
            "      Switzerland  7.480         6.763238 -0.716762\n",
            "           Sweden  7.343         6.683077 -0.659923\n",
            "      New Zealand  7.307         6.711136 -0.595864\n",
            "           Canada  7.278         6.652272 -0.625728\n",
            "          Austria  7.246         6.475593 -0.770407\n",
            "\n",
            "MSE final (entrenamiento): 0.2715\n",
            "MSE final (prueba): 0.4516\n"
          ]
        }
      ]
    }
  ]
}