{
  "nbformat": 4,
  "nbformat_minor": 0,
  "metadata": {
    "colab": {
      "provenance": [],
      "authorship_tag": "ABX9TyMb1fXHLqm8/bUhJvanedj8",
      "include_colab_link": true
    },
    "kernelspec": {
      "name": "python3",
      "display_name": "Python 3"
    },
    "language_info": {
      "name": "python"
    }
  },
  "cells": [
    {
      "cell_type": "markdown",
      "metadata": {
        "id": "view-in-github",
        "colab_type": "text"
      },
      "source": [
        "<a href=\"https://colab.research.google.com/github/Yury122/An-lisis-y-Dise-o-de-Algoritmos-2025-2-/blob/main/TAREA_PCA_MATRIZ_3X3.ipynb\" target=\"_parent\"><img src=\"https://colab.research.google.com/assets/colab-badge.svg\" alt=\"Open In Colab\"/></a>"
      ]
    },
    {
      "cell_type": "code",
      "source": [
        "import numpy as np"
      ],
      "metadata": {
        "id": "mt7T60aUmEpM"
      },
      "execution_count": 1,
      "outputs": []
    },
    {
      "cell_type": "code",
      "source": [
        "#creo la matriz X\n",
        "X = np.array([[2,0,1],\n",
        "             [3,1,2],\n",
        "             [4,0,3]\n",
        "             ])"
      ],
      "metadata": {
        "id": "foNxHPOKmcJs"
      },
      "execution_count": 3,
      "outputs": []
    },
    {
      "cell_type": "code",
      "source": [
        "X"
      ],
      "metadata": {
        "colab": {
          "base_uri": "https://localhost:8080/"
        },
        "id": "wtw79d23m_0E",
        "outputId": "93eb3eaa-3e7e-49a1-8245-07b3d65a16d1"
      },
      "execution_count": 4,
      "outputs": [
        {
          "output_type": "execute_result",
          "data": {
            "text/plain": [
              "array([[2, 0, 1],\n",
              "       [3, 1, 2],\n",
              "       [4, 0, 3]])"
            ]
          },
          "metadata": {},
          "execution_count": 4
        }
      ]
    },
    {
      "cell_type": "code",
      "source": [
        "mean = np.mean(X,axis=0)\n",
        "mean"
      ],
      "metadata": {
        "colab": {
          "base_uri": "https://localhost:8080/"
        },
        "id": "KN4WKd2gnAxL",
        "outputId": "806f28d7-9207-476b-db69-e1ce8c62b002"
      },
      "execution_count": 6,
      "outputs": [
        {
          "output_type": "execute_result",
          "data": {
            "text/plain": [
              "array([3.        , 0.33333333, 2.        ])"
            ]
          },
          "metadata": {},
          "execution_count": 6
        }
      ]
    },
    {
      "cell_type": "code",
      "source": [
        "X_centered = X - mean\n",
        "X_centered"
      ],
      "metadata": {
        "colab": {
          "base_uri": "https://localhost:8080/"
        },
        "id": "RmPa5ViRnOGk",
        "outputId": "d113fc34-490a-4a90-f897-174f5dc054f5"
      },
      "execution_count": 10,
      "outputs": [
        {
          "output_type": "execute_result",
          "data": {
            "text/plain": [
              "array([[-1.        , -0.33333333, -1.        ],\n",
              "       [ 0.        ,  0.66666667,  0.        ],\n",
              "       [ 1.        , -0.33333333,  1.        ]])"
            ]
          },
          "metadata": {},
          "execution_count": 10
        }
      ]
    },
    {
      "cell_type": "code",
      "source": [
        "cov_matrix = np.cov(X_centered, rowvar=False)\n",
        "cov_matrix"
      ],
      "metadata": {
        "colab": {
          "base_uri": "https://localhost:8080/"
        },
        "id": "K8oMH0JUnfZf",
        "outputId": "2de13d57-dbcd-473c-f022-4746e0186811"
      },
      "execution_count": 11,
      "outputs": [
        {
          "output_type": "execute_result",
          "data": {
            "text/plain": [
              "array([[1.        , 0.        , 1.        ],\n",
              "       [0.        , 0.33333333, 0.        ],\n",
              "       [1.        , 0.        , 1.        ]])"
            ]
          },
          "metadata": {},
          "execution_count": 11
        }
      ]
    },
    {
      "cell_type": "code",
      "source": [
        "eigenvalues, eigenvectors = np.linalg.eig(cov_matrix)"
      ],
      "metadata": {
        "id": "vkyy6siInb-U"
      },
      "execution_count": 18,
      "outputs": []
    },
    {
      "cell_type": "code",
      "source": [
        "eigenvalues"
      ],
      "metadata": {
        "colab": {
          "base_uri": "https://localhost:8080/"
        },
        "id": "F6XeO6Awn4hk",
        "outputId": "d448bf7b-cd06-419b-9988-87c4be8d432e"
      },
      "execution_count": 20,
      "outputs": [
        {
          "output_type": "execute_result",
          "data": {
            "text/plain": [
              "array([2.        , 0.        , 0.33333333])"
            ]
          },
          "metadata": {},
          "execution_count": 20
        }
      ]
    },
    {
      "cell_type": "code",
      "source": [
        "eigenvectors"
      ],
      "metadata": {
        "colab": {
          "base_uri": "https://localhost:8080/"
        },
        "id": "hn6o972Hn4W8",
        "outputId": "bcbc0e42-686d-4974-e7a0-abc8311e7942"
      },
      "execution_count": 19,
      "outputs": [
        {
          "output_type": "execute_result",
          "data": {
            "text/plain": [
              "array([[ 0.70710678, -0.70710678,  0.        ],\n",
              "       [ 0.        ,  0.        ,  1.        ],\n",
              "       [ 0.70710678,  0.70710678,  0.        ]])"
            ]
          },
          "metadata": {},
          "execution_count": 19
        }
      ]
    },
    {
      "cell_type": "code",
      "source": [
        "sorted_idx = np.argsort(eigenvalues)[::-1]\n",
        "eigenvalues = eigenvalues[sorted_idx]\n",
        "eigenvectors = eigenvectors[:, sorted_idx]\n"
      ],
      "metadata": {
        "id": "_hXAWbYfn9b7"
      },
      "execution_count": 21,
      "outputs": []
    },
    {
      "cell_type": "code",
      "source": [
        "print(\"Eigenvalues:\", eigenvalues)\n",
        "print(\"Eigenvectors:\\n\", eigenvectors)"
      ],
      "metadata": {
        "colab": {
          "base_uri": "https://localhost:8080/"
        },
        "id": "SDaRdLm5oI4M",
        "outputId": "716ee01c-db09-4319-ed4f-200f99aa56b0"
      },
      "execution_count": 23,
      "outputs": [
        {
          "output_type": "stream",
          "name": "stdout",
          "text": [
            "Eigenvalues: [2.         0.33333333 0.        ]\n",
            "Eigenvectors:\n",
            " [[ 0.70710678  0.         -0.70710678]\n",
            " [ 0.          1.          0.        ]\n",
            " [ 0.70710678  0.          0.70710678]]\n"
          ]
        }
      ]
    },
    {
      "cell_type": "code",
      "source": [
        "k = 1\n",
        "X_pca = X_centered.dot(eigenvectors[:, :k])"
      ],
      "metadata": {
        "id": "4UCv_3lRoOdC"
      },
      "execution_count": 24,
      "outputs": []
    },
    {
      "cell_type": "code",
      "source": [
        "print(\"Original data shape:\", X.shape)\n",
        "print(\"Transformed data shape:\", X_pca.shape)\n",
        "print(\"Projected data (first 5 samples):\\n\", X_pca[:5])"
      ],
      "metadata": {
        "colab": {
          "base_uri": "https://localhost:8080/"
        },
        "id": "ZbCO3twwoQ6b",
        "outputId": "2fa60e9d-2750-48d9-d666-b6920064540a"
      },
      "execution_count": 26,
      "outputs": [
        {
          "output_type": "stream",
          "name": "stdout",
          "text": [
            "Original data shape: (3, 3)\n",
            "Transformed data shape: (3, 1)\n",
            "Projected data (first 5 samples):\n",
            " [[-1.41421356]\n",
            " [ 0.        ]\n",
            " [ 1.41421356]]\n"
          ]
        }
      ]
    }
  ]
}